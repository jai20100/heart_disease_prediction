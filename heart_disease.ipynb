{
  "cells": [
    {
      "cell_type": "markdown",
      "metadata": {
        "id": "WK_KPy6QOK7C"
      },
      "source": [
        "# Heart disease prediction "
      ]
    },
    {
      "cell_type": "markdown",
      "metadata": {
        "id": "EgzFBhOXOK7E"
      },
      "source": [
        "\n",
        "This data set dates from 1995 to 2021 and consists of four databases:  Long Beach V, Hungary, Switzerland, and Cleveland. It contains 76 attributes, including the predicted attribute, but all published experiments refer to using a subset of 14 of them. "
      ]
    },
    {
      "cell_type": "markdown",
      "metadata": {
        "id": "2ZGkKvdWOK7F"
      },
      "source": [
        "Project goal is to predict if someone has disease or not. I will explore what parameters affects on heart disease and visualize connections between them."
      ]
    },
    {
      "cell_type": "markdown",
      "metadata": {
        "id": "34L46YixOK7G"
      },
      "source": [
        "## Exploring dataset"
      ]
    },
    {
      "cell_type": "code",
      "execution_count": null,
      "metadata": {
        "id": "3KBZQG2rOK7H"
      },
      "outputs": [],
      "source": [
        "import pandas as pd\n",
        "import numpy as np\n",
        "import matplotlib.pyplot as plt\n",
        "%matplotlib inline\n",
        "import seaborn as sns"
      ]
    },
    {
      "cell_type": "code",
      "execution_count": null,
      "metadata": {
        "colab": {
          "base_uri": "https://localhost:8080/",
          "height": 206
        },
        "id": "z9P14VePOK7I",
        "outputId": "fc9e412b-1f86-413e-9003-639b62e86027",
        "scrolled": true
      },
      "outputs": [
        {
          "output_type": "execute_result",
          "data": {
            "text/plain": [
              "   Age Sex ChestPainType  RestingBP  Cholesterol  FastingBS RestingECG  MaxHR  \\\n",
              "0   40   M           ATA        140          289          0     Normal    172   \n",
              "1   49   F           NAP        160          180          0     Normal    156   \n",
              "2   37   M           ATA        130          283          0         ST     98   \n",
              "3   48   F           ASY        138          214          0     Normal    108   \n",
              "4   54   M           NAP        150          195          0     Normal    122   \n",
              "\n",
              "  ExerciseAngina  Oldpeak ST_Slope  HeartDisease  \n",
              "0              N      0.0       Up             0  \n",
              "1              N      1.0     Flat             1  \n",
              "2              N      0.0       Up             0  \n",
              "3              Y      1.5     Flat             1  \n",
              "4              N      0.0       Up             0  "
            ],
            "text/html": [
              "\n",
              "  <div id=\"df-baf56406-6ec2-4285-a948-b63b2e317ac4\">\n",
              "    <div class=\"colab-df-container\">\n",
              "      <div>\n",
              "<style scoped>\n",
              "    .dataframe tbody tr th:only-of-type {\n",
              "        vertical-align: middle;\n",
              "    }\n",
              "\n",
              "    .dataframe tbody tr th {\n",
              "        vertical-align: top;\n",
              "    }\n",
              "\n",
              "    .dataframe thead th {\n",
              "        text-align: right;\n",
              "    }\n",
              "</style>\n",
              "<table border=\"1\" class=\"dataframe\">\n",
              "  <thead>\n",
              "    <tr style=\"text-align: right;\">\n",
              "      <th></th>\n",
              "      <th>Age</th>\n",
              "      <th>Sex</th>\n",
              "      <th>ChestPainType</th>\n",
              "      <th>RestingBP</th>\n",
              "      <th>Cholesterol</th>\n",
              "      <th>FastingBS</th>\n",
              "      <th>RestingECG</th>\n",
              "      <th>MaxHR</th>\n",
              "      <th>ExerciseAngina</th>\n",
              "      <th>Oldpeak</th>\n",
              "      <th>ST_Slope</th>\n",
              "      <th>HeartDisease</th>\n",
              "    </tr>\n",
              "  </thead>\n",
              "  <tbody>\n",
              "    <tr>\n",
              "      <th>0</th>\n",
              "      <td>40</td>\n",
              "      <td>M</td>\n",
              "      <td>ATA</td>\n",
              "      <td>140</td>\n",
              "      <td>289</td>\n",
              "      <td>0</td>\n",
              "      <td>Normal</td>\n",
              "      <td>172</td>\n",
              "      <td>N</td>\n",
              "      <td>0.0</td>\n",
              "      <td>Up</td>\n",
              "      <td>0</td>\n",
              "    </tr>\n",
              "    <tr>\n",
              "      <th>1</th>\n",
              "      <td>49</td>\n",
              "      <td>F</td>\n",
              "      <td>NAP</td>\n",
              "      <td>160</td>\n",
              "      <td>180</td>\n",
              "      <td>0</td>\n",
              "      <td>Normal</td>\n",
              "      <td>156</td>\n",
              "      <td>N</td>\n",
              "      <td>1.0</td>\n",
              "      <td>Flat</td>\n",
              "      <td>1</td>\n",
              "    </tr>\n",
              "    <tr>\n",
              "      <th>2</th>\n",
              "      <td>37</td>\n",
              "      <td>M</td>\n",
              "      <td>ATA</td>\n",
              "      <td>130</td>\n",
              "      <td>283</td>\n",
              "      <td>0</td>\n",
              "      <td>ST</td>\n",
              "      <td>98</td>\n",
              "      <td>N</td>\n",
              "      <td>0.0</td>\n",
              "      <td>Up</td>\n",
              "      <td>0</td>\n",
              "    </tr>\n",
              "    <tr>\n",
              "      <th>3</th>\n",
              "      <td>48</td>\n",
              "      <td>F</td>\n",
              "      <td>ASY</td>\n",
              "      <td>138</td>\n",
              "      <td>214</td>\n",
              "      <td>0</td>\n",
              "      <td>Normal</td>\n",
              "      <td>108</td>\n",
              "      <td>Y</td>\n",
              "      <td>1.5</td>\n",
              "      <td>Flat</td>\n",
              "      <td>1</td>\n",
              "    </tr>\n",
              "    <tr>\n",
              "      <th>4</th>\n",
              "      <td>54</td>\n",
              "      <td>M</td>\n",
              "      <td>NAP</td>\n",
              "      <td>150</td>\n",
              "      <td>195</td>\n",
              "      <td>0</td>\n",
              "      <td>Normal</td>\n",
              "      <td>122</td>\n",
              "      <td>N</td>\n",
              "      <td>0.0</td>\n",
              "      <td>Up</td>\n",
              "      <td>0</td>\n",
              "    </tr>\n",
              "  </tbody>\n",
              "</table>\n",
              "</div>\n",
              "      <button class=\"colab-df-convert\" onclick=\"convertToInteractive('df-baf56406-6ec2-4285-a948-b63b2e317ac4')\"\n",
              "              title=\"Convert this dataframe to an interactive table.\"\n",
              "              style=\"display:none;\">\n",
              "        \n",
              "  <svg xmlns=\"http://www.w3.org/2000/svg\" height=\"24px\"viewBox=\"0 0 24 24\"\n",
              "       width=\"24px\">\n",
              "    <path d=\"M0 0h24v24H0V0z\" fill=\"none\"/>\n",
              "    <path d=\"M18.56 5.44l.94 2.06.94-2.06 2.06-.94-2.06-.94-.94-2.06-.94 2.06-2.06.94zm-11 1L8.5 8.5l.94-2.06 2.06-.94-2.06-.94L8.5 2.5l-.94 2.06-2.06.94zm10 10l.94 2.06.94-2.06 2.06-.94-2.06-.94-.94-2.06-.94 2.06-2.06.94z\"/><path d=\"M17.41 7.96l-1.37-1.37c-.4-.4-.92-.59-1.43-.59-.52 0-1.04.2-1.43.59L10.3 9.45l-7.72 7.72c-.78.78-.78 2.05 0 2.83L4 21.41c.39.39.9.59 1.41.59.51 0 1.02-.2 1.41-.59l7.78-7.78 2.81-2.81c.8-.78.8-2.07 0-2.86zM5.41 20L4 18.59l7.72-7.72 1.47 1.35L5.41 20z\"/>\n",
              "  </svg>\n",
              "      </button>\n",
              "      \n",
              "  <style>\n",
              "    .colab-df-container {\n",
              "      display:flex;\n",
              "      flex-wrap:wrap;\n",
              "      gap: 12px;\n",
              "    }\n",
              "\n",
              "    .colab-df-convert {\n",
              "      background-color: #E8F0FE;\n",
              "      border: none;\n",
              "      border-radius: 50%;\n",
              "      cursor: pointer;\n",
              "      display: none;\n",
              "      fill: #1967D2;\n",
              "      height: 32px;\n",
              "      padding: 0 0 0 0;\n",
              "      width: 32px;\n",
              "    }\n",
              "\n",
              "    .colab-df-convert:hover {\n",
              "      background-color: #E2EBFA;\n",
              "      box-shadow: 0px 1px 2px rgba(60, 64, 67, 0.3), 0px 1px 3px 1px rgba(60, 64, 67, 0.15);\n",
              "      fill: #174EA6;\n",
              "    }\n",
              "\n",
              "    [theme=dark] .colab-df-convert {\n",
              "      background-color: #3B4455;\n",
              "      fill: #D2E3FC;\n",
              "    }\n",
              "\n",
              "    [theme=dark] .colab-df-convert:hover {\n",
              "      background-color: #434B5C;\n",
              "      box-shadow: 0px 1px 3px 1px rgba(0, 0, 0, 0.15);\n",
              "      filter: drop-shadow(0px 1px 2px rgba(0, 0, 0, 0.3));\n",
              "      fill: #FFFFFF;\n",
              "    }\n",
              "  </style>\n",
              "\n",
              "      <script>\n",
              "        const buttonEl =\n",
              "          document.querySelector('#df-baf56406-6ec2-4285-a948-b63b2e317ac4 button.colab-df-convert');\n",
              "        buttonEl.style.display =\n",
              "          google.colab.kernel.accessAllowed ? 'block' : 'none';\n",
              "\n",
              "        async function convertToInteractive(key) {\n",
              "          const element = document.querySelector('#df-baf56406-6ec2-4285-a948-b63b2e317ac4');\n",
              "          const dataTable =\n",
              "            await google.colab.kernel.invokeFunction('convertToInteractive',\n",
              "                                                     [key], {});\n",
              "          if (!dataTable) return;\n",
              "\n",
              "          const docLinkHtml = 'Like what you see? Visit the ' +\n",
              "            '<a target=\"_blank\" href=https://colab.research.google.com/notebooks/data_table.ipynb>data table notebook</a>'\n",
              "            + ' to learn more about interactive tables.';\n",
              "          element.innerHTML = '';\n",
              "          dataTable['output_type'] = 'display_data';\n",
              "          await google.colab.output.renderOutput(dataTable, element);\n",
              "          const docLink = document.createElement('div');\n",
              "          docLink.innerHTML = docLinkHtml;\n",
              "          element.appendChild(docLink);\n",
              "        }\n",
              "      </script>\n",
              "    </div>\n",
              "  </div>\n",
              "  "
            ]
          },
          "metadata": {},
          "execution_count": 10
        }
      ],
      "source": [
        "df=pd.read_csv(\"/content/heart.csv\")\n",
        "# df=pd.read_csv(\"/content/data01.csv\")\n",
        "df.head()"
      ]
    },
    {
      "cell_type": "code",
      "execution_count": null,
      "metadata": {
        "colab": {
          "base_uri": "https://localhost:8080/"
        },
        "id": "oT9qSmK8fjLL",
        "outputId": "edfe8f77-1913-4d26-e35e-dbc6e67dec4b"
      },
      "outputs": [
        {
          "output_type": "execute_result",
          "data": {
            "text/plain": [
              "(918, 12)"
            ]
          },
          "metadata": {},
          "execution_count": 11
        }
      ],
      "source": [
        "df.shape"
      ]
    },
    {
      "cell_type": "markdown",
      "metadata": {
        "id": "T-6PGjMnOK7K"
      },
      "source": [
        "Attribute Information:\n",
        "- age - age of patient\n",
        "- sex - female(1) / male(0)\n",
        "- cp -  chest pain type (4 values)\n",
        "- trestbps - resting blood pressure\n",
        "- chol - serum cholestoral in mg/dl\n",
        "- fbs - fasting blood sugar > 120 mg/dl\n",
        "- restecg - resting electrocardiographic results (values 0,1,2)\n",
        "- thalach - maximum heart rate achieved\n",
        "- exang - exercise induced angina\n",
        "- oldpeak - ST depression induced by exercise relative to rest\n",
        "- slope - the slope of the peak exercise ST segment\n",
        "- ca - number of major vessels (0-3) colored by flourosopy\n",
        "- thal -  0 = normal; 1 = fixed defect; 2 = reversable defect\n",
        "- target - the \"target\" field refers to the presence of heart disease in the patient. It is integer valued 0 = no disease and 1 = disease"
      ]
    },
    {
      "cell_type": "code",
      "execution_count": null,
      "metadata": {
        "colab": {
          "base_uri": "https://localhost:8080/"
        },
        "id": "yj1cr17xOK7L",
        "outputId": "3e2376fe-a48c-4492-bee2-7e3fee2037cf",
        "scrolled": false
      },
      "outputs": [
        {
          "output_type": "stream",
          "name": "stdout",
          "text": [
            "<class 'pandas.core.frame.DataFrame'>\n",
            "RangeIndex: 918 entries, 0 to 917\n",
            "Data columns (total 12 columns):\n",
            " #   Column          Non-Null Count  Dtype  \n",
            "---  ------          --------------  -----  \n",
            " 0   Age             918 non-null    int64  \n",
            " 1   Sex             918 non-null    object \n",
            " 2   ChestPainType   918 non-null    object \n",
            " 3   RestingBP       918 non-null    int64  \n",
            " 4   Cholesterol     918 non-null    int64  \n",
            " 5   FastingBS       918 non-null    int64  \n",
            " 6   RestingECG      918 non-null    object \n",
            " 7   MaxHR           918 non-null    int64  \n",
            " 8   ExerciseAngina  918 non-null    object \n",
            " 9   Oldpeak         918 non-null    float64\n",
            " 10  ST_Slope        918 non-null    object \n",
            " 11  HeartDisease    918 non-null    int64  \n",
            "dtypes: float64(1), int64(6), object(5)\n",
            "memory usage: 86.2+ KB\n"
          ]
        }
      ],
      "source": [
        "df.info()"
      ]
    },
    {
      "cell_type": "markdown",
      "metadata": {
        "id": "HugYkAtqOK7L"
      },
      "source": [
        "Everything looks fine we dont'have missing values."
      ]
    },
    {
      "cell_type": "code",
      "execution_count": null,
      "metadata": {
        "colab": {
          "base_uri": "https://localhost:8080/",
          "height": 300
        },
        "id": "zORlVEVTOK7M",
        "outputId": "a5b3149d-8f5d-4757-db03-fdcfa7e65aa0",
        "scrolled": false
      },
      "outputs": [
        {
          "output_type": "execute_result",
          "data": {
            "text/plain": [
              "              Age   RestingBP  Cholesterol   FastingBS       MaxHR  \\\n",
              "count  918.000000  918.000000   918.000000  918.000000  918.000000   \n",
              "mean    53.510893  132.396514   198.799564    0.233115  136.809368   \n",
              "std      9.432617   18.514154   109.384145    0.423046   25.460334   \n",
              "min     28.000000    0.000000     0.000000    0.000000   60.000000   \n",
              "25%     47.000000  120.000000   173.250000    0.000000  120.000000   \n",
              "50%     54.000000  130.000000   223.000000    0.000000  138.000000   \n",
              "75%     60.000000  140.000000   267.000000    0.000000  156.000000   \n",
              "max     77.000000  200.000000   603.000000    1.000000  202.000000   \n",
              "\n",
              "          Oldpeak  HeartDisease  \n",
              "count  918.000000    918.000000  \n",
              "mean     0.887364      0.553377  \n",
              "std      1.066570      0.497414  \n",
              "min     -2.600000      0.000000  \n",
              "25%      0.000000      0.000000  \n",
              "50%      0.600000      1.000000  \n",
              "75%      1.500000      1.000000  \n",
              "max      6.200000      1.000000  "
            ],
            "text/html": [
              "\n",
              "  <div id=\"df-9ebe83e2-e21a-432a-ba35-a8dd2067f0e1\">\n",
              "    <div class=\"colab-df-container\">\n",
              "      <div>\n",
              "<style scoped>\n",
              "    .dataframe tbody tr th:only-of-type {\n",
              "        vertical-align: middle;\n",
              "    }\n",
              "\n",
              "    .dataframe tbody tr th {\n",
              "        vertical-align: top;\n",
              "    }\n",
              "\n",
              "    .dataframe thead th {\n",
              "        text-align: right;\n",
              "    }\n",
              "</style>\n",
              "<table border=\"1\" class=\"dataframe\">\n",
              "  <thead>\n",
              "    <tr style=\"text-align: right;\">\n",
              "      <th></th>\n",
              "      <th>Age</th>\n",
              "      <th>RestingBP</th>\n",
              "      <th>Cholesterol</th>\n",
              "      <th>FastingBS</th>\n",
              "      <th>MaxHR</th>\n",
              "      <th>Oldpeak</th>\n",
              "      <th>HeartDisease</th>\n",
              "    </tr>\n",
              "  </thead>\n",
              "  <tbody>\n",
              "    <tr>\n",
              "      <th>count</th>\n",
              "      <td>918.000000</td>\n",
              "      <td>918.000000</td>\n",
              "      <td>918.000000</td>\n",
              "      <td>918.000000</td>\n",
              "      <td>918.000000</td>\n",
              "      <td>918.000000</td>\n",
              "      <td>918.000000</td>\n",
              "    </tr>\n",
              "    <tr>\n",
              "      <th>mean</th>\n",
              "      <td>53.510893</td>\n",
              "      <td>132.396514</td>\n",
              "      <td>198.799564</td>\n",
              "      <td>0.233115</td>\n",
              "      <td>136.809368</td>\n",
              "      <td>0.887364</td>\n",
              "      <td>0.553377</td>\n",
              "    </tr>\n",
              "    <tr>\n",
              "      <th>std</th>\n",
              "      <td>9.432617</td>\n",
              "      <td>18.514154</td>\n",
              "      <td>109.384145</td>\n",
              "      <td>0.423046</td>\n",
              "      <td>25.460334</td>\n",
              "      <td>1.066570</td>\n",
              "      <td>0.497414</td>\n",
              "    </tr>\n",
              "    <tr>\n",
              "      <th>min</th>\n",
              "      <td>28.000000</td>\n",
              "      <td>0.000000</td>\n",
              "      <td>0.000000</td>\n",
              "      <td>0.000000</td>\n",
              "      <td>60.000000</td>\n",
              "      <td>-2.600000</td>\n",
              "      <td>0.000000</td>\n",
              "    </tr>\n",
              "    <tr>\n",
              "      <th>25%</th>\n",
              "      <td>47.000000</td>\n",
              "      <td>120.000000</td>\n",
              "      <td>173.250000</td>\n",
              "      <td>0.000000</td>\n",
              "      <td>120.000000</td>\n",
              "      <td>0.000000</td>\n",
              "      <td>0.000000</td>\n",
              "    </tr>\n",
              "    <tr>\n",
              "      <th>50%</th>\n",
              "      <td>54.000000</td>\n",
              "      <td>130.000000</td>\n",
              "      <td>223.000000</td>\n",
              "      <td>0.000000</td>\n",
              "      <td>138.000000</td>\n",
              "      <td>0.600000</td>\n",
              "      <td>1.000000</td>\n",
              "    </tr>\n",
              "    <tr>\n",
              "      <th>75%</th>\n",
              "      <td>60.000000</td>\n",
              "      <td>140.000000</td>\n",
              "      <td>267.000000</td>\n",
              "      <td>0.000000</td>\n",
              "      <td>156.000000</td>\n",
              "      <td>1.500000</td>\n",
              "      <td>1.000000</td>\n",
              "    </tr>\n",
              "    <tr>\n",
              "      <th>max</th>\n",
              "      <td>77.000000</td>\n",
              "      <td>200.000000</td>\n",
              "      <td>603.000000</td>\n",
              "      <td>1.000000</td>\n",
              "      <td>202.000000</td>\n",
              "      <td>6.200000</td>\n",
              "      <td>1.000000</td>\n",
              "    </tr>\n",
              "  </tbody>\n",
              "</table>\n",
              "</div>\n",
              "      <button class=\"colab-df-convert\" onclick=\"convertToInteractive('df-9ebe83e2-e21a-432a-ba35-a8dd2067f0e1')\"\n",
              "              title=\"Convert this dataframe to an interactive table.\"\n",
              "              style=\"display:none;\">\n",
              "        \n",
              "  <svg xmlns=\"http://www.w3.org/2000/svg\" height=\"24px\"viewBox=\"0 0 24 24\"\n",
              "       width=\"24px\">\n",
              "    <path d=\"M0 0h24v24H0V0z\" fill=\"none\"/>\n",
              "    <path d=\"M18.56 5.44l.94 2.06.94-2.06 2.06-.94-2.06-.94-.94-2.06-.94 2.06-2.06.94zm-11 1L8.5 8.5l.94-2.06 2.06-.94-2.06-.94L8.5 2.5l-.94 2.06-2.06.94zm10 10l.94 2.06.94-2.06 2.06-.94-2.06-.94-.94-2.06-.94 2.06-2.06.94z\"/><path d=\"M17.41 7.96l-1.37-1.37c-.4-.4-.92-.59-1.43-.59-.52 0-1.04.2-1.43.59L10.3 9.45l-7.72 7.72c-.78.78-.78 2.05 0 2.83L4 21.41c.39.39.9.59 1.41.59.51 0 1.02-.2 1.41-.59l7.78-7.78 2.81-2.81c.8-.78.8-2.07 0-2.86zM5.41 20L4 18.59l7.72-7.72 1.47 1.35L5.41 20z\"/>\n",
              "  </svg>\n",
              "      </button>\n",
              "      \n",
              "  <style>\n",
              "    .colab-df-container {\n",
              "      display:flex;\n",
              "      flex-wrap:wrap;\n",
              "      gap: 12px;\n",
              "    }\n",
              "\n",
              "    .colab-df-convert {\n",
              "      background-color: #E8F0FE;\n",
              "      border: none;\n",
              "      border-radius: 50%;\n",
              "      cursor: pointer;\n",
              "      display: none;\n",
              "      fill: #1967D2;\n",
              "      height: 32px;\n",
              "      padding: 0 0 0 0;\n",
              "      width: 32px;\n",
              "    }\n",
              "\n",
              "    .colab-df-convert:hover {\n",
              "      background-color: #E2EBFA;\n",
              "      box-shadow: 0px 1px 2px rgba(60, 64, 67, 0.3), 0px 1px 3px 1px rgba(60, 64, 67, 0.15);\n",
              "      fill: #174EA6;\n",
              "    }\n",
              "\n",
              "    [theme=dark] .colab-df-convert {\n",
              "      background-color: #3B4455;\n",
              "      fill: #D2E3FC;\n",
              "    }\n",
              "\n",
              "    [theme=dark] .colab-df-convert:hover {\n",
              "      background-color: #434B5C;\n",
              "      box-shadow: 0px 1px 3px 1px rgba(0, 0, 0, 0.15);\n",
              "      filter: drop-shadow(0px 1px 2px rgba(0, 0, 0, 0.3));\n",
              "      fill: #FFFFFF;\n",
              "    }\n",
              "  </style>\n",
              "\n",
              "      <script>\n",
              "        const buttonEl =\n",
              "          document.querySelector('#df-9ebe83e2-e21a-432a-ba35-a8dd2067f0e1 button.colab-df-convert');\n",
              "        buttonEl.style.display =\n",
              "          google.colab.kernel.accessAllowed ? 'block' : 'none';\n",
              "\n",
              "        async function convertToInteractive(key) {\n",
              "          const element = document.querySelector('#df-9ebe83e2-e21a-432a-ba35-a8dd2067f0e1');\n",
              "          const dataTable =\n",
              "            await google.colab.kernel.invokeFunction('convertToInteractive',\n",
              "                                                     [key], {});\n",
              "          if (!dataTable) return;\n",
              "\n",
              "          const docLinkHtml = 'Like what you see? Visit the ' +\n",
              "            '<a target=\"_blank\" href=https://colab.research.google.com/notebooks/data_table.ipynb>data table notebook</a>'\n",
              "            + ' to learn more about interactive tables.';\n",
              "          element.innerHTML = '';\n",
              "          dataTable['output_type'] = 'display_data';\n",
              "          await google.colab.output.renderOutput(dataTable, element);\n",
              "          const docLink = document.createElement('div');\n",
              "          docLink.innerHTML = docLinkHtml;\n",
              "          element.appendChild(docLink);\n",
              "        }\n",
              "      </script>\n",
              "    </div>\n",
              "  </div>\n",
              "  "
            ]
          },
          "metadata": {},
          "execution_count": 13
        }
      ],
      "source": [
        "df.describe()"
      ]
    },
    {
      "cell_type": "code",
      "execution_count": null,
      "metadata": {
        "colab": {
          "base_uri": "https://localhost:8080/",
          "height": 269
        },
        "id": "be4Rwjthyty-",
        "outputId": "02fc8fca-c32d-446d-bd9d-2dd97beed996"
      },
      "outputs": [
        {
          "output_type": "execute_result",
          "data": {
            "text/plain": [
              "                   Age  RestingBP  Cholesterol  FastingBS     MaxHR   Oldpeak  \\\n",
              "Age           1.000000   0.254399    -0.095282   0.198039 -0.382045  0.258612   \n",
              "RestingBP     0.254399   1.000000     0.100893   0.070193 -0.112135  0.164803   \n",
              "Cholesterol  -0.095282   0.100893     1.000000  -0.260974  0.235792  0.050148   \n",
              "FastingBS     0.198039   0.070193    -0.260974   1.000000 -0.131438  0.052698   \n",
              "MaxHR        -0.382045  -0.112135     0.235792  -0.131438  1.000000 -0.160691   \n",
              "Oldpeak       0.258612   0.164803     0.050148   0.052698 -0.160691  1.000000   \n",
              "HeartDisease  0.282039   0.107589    -0.232741   0.267291 -0.400421  0.403951   \n",
              "\n",
              "              HeartDisease  \n",
              "Age               0.282039  \n",
              "RestingBP         0.107589  \n",
              "Cholesterol      -0.232741  \n",
              "FastingBS         0.267291  \n",
              "MaxHR            -0.400421  \n",
              "Oldpeak           0.403951  \n",
              "HeartDisease      1.000000  "
            ],
            "text/html": [
              "\n",
              "  <div id=\"df-07bc8efd-b5fc-48aa-a4f8-6c01a8bca0bc\">\n",
              "    <div class=\"colab-df-container\">\n",
              "      <div>\n",
              "<style scoped>\n",
              "    .dataframe tbody tr th:only-of-type {\n",
              "        vertical-align: middle;\n",
              "    }\n",
              "\n",
              "    .dataframe tbody tr th {\n",
              "        vertical-align: top;\n",
              "    }\n",
              "\n",
              "    .dataframe thead th {\n",
              "        text-align: right;\n",
              "    }\n",
              "</style>\n",
              "<table border=\"1\" class=\"dataframe\">\n",
              "  <thead>\n",
              "    <tr style=\"text-align: right;\">\n",
              "      <th></th>\n",
              "      <th>Age</th>\n",
              "      <th>RestingBP</th>\n",
              "      <th>Cholesterol</th>\n",
              "      <th>FastingBS</th>\n",
              "      <th>MaxHR</th>\n",
              "      <th>Oldpeak</th>\n",
              "      <th>HeartDisease</th>\n",
              "    </tr>\n",
              "  </thead>\n",
              "  <tbody>\n",
              "    <tr>\n",
              "      <th>Age</th>\n",
              "      <td>1.000000</td>\n",
              "      <td>0.254399</td>\n",
              "      <td>-0.095282</td>\n",
              "      <td>0.198039</td>\n",
              "      <td>-0.382045</td>\n",
              "      <td>0.258612</td>\n",
              "      <td>0.282039</td>\n",
              "    </tr>\n",
              "    <tr>\n",
              "      <th>RestingBP</th>\n",
              "      <td>0.254399</td>\n",
              "      <td>1.000000</td>\n",
              "      <td>0.100893</td>\n",
              "      <td>0.070193</td>\n",
              "      <td>-0.112135</td>\n",
              "      <td>0.164803</td>\n",
              "      <td>0.107589</td>\n",
              "    </tr>\n",
              "    <tr>\n",
              "      <th>Cholesterol</th>\n",
              "      <td>-0.095282</td>\n",
              "      <td>0.100893</td>\n",
              "      <td>1.000000</td>\n",
              "      <td>-0.260974</td>\n",
              "      <td>0.235792</td>\n",
              "      <td>0.050148</td>\n",
              "      <td>-0.232741</td>\n",
              "    </tr>\n",
              "    <tr>\n",
              "      <th>FastingBS</th>\n",
              "      <td>0.198039</td>\n",
              "      <td>0.070193</td>\n",
              "      <td>-0.260974</td>\n",
              "      <td>1.000000</td>\n",
              "      <td>-0.131438</td>\n",
              "      <td>0.052698</td>\n",
              "      <td>0.267291</td>\n",
              "    </tr>\n",
              "    <tr>\n",
              "      <th>MaxHR</th>\n",
              "      <td>-0.382045</td>\n",
              "      <td>-0.112135</td>\n",
              "      <td>0.235792</td>\n",
              "      <td>-0.131438</td>\n",
              "      <td>1.000000</td>\n",
              "      <td>-0.160691</td>\n",
              "      <td>-0.400421</td>\n",
              "    </tr>\n",
              "    <tr>\n",
              "      <th>Oldpeak</th>\n",
              "      <td>0.258612</td>\n",
              "      <td>0.164803</td>\n",
              "      <td>0.050148</td>\n",
              "      <td>0.052698</td>\n",
              "      <td>-0.160691</td>\n",
              "      <td>1.000000</td>\n",
              "      <td>0.403951</td>\n",
              "    </tr>\n",
              "    <tr>\n",
              "      <th>HeartDisease</th>\n",
              "      <td>0.282039</td>\n",
              "      <td>0.107589</td>\n",
              "      <td>-0.232741</td>\n",
              "      <td>0.267291</td>\n",
              "      <td>-0.400421</td>\n",
              "      <td>0.403951</td>\n",
              "      <td>1.000000</td>\n",
              "    </tr>\n",
              "  </tbody>\n",
              "</table>\n",
              "</div>\n",
              "      <button class=\"colab-df-convert\" onclick=\"convertToInteractive('df-07bc8efd-b5fc-48aa-a4f8-6c01a8bca0bc')\"\n",
              "              title=\"Convert this dataframe to an interactive table.\"\n",
              "              style=\"display:none;\">\n",
              "        \n",
              "  <svg xmlns=\"http://www.w3.org/2000/svg\" height=\"24px\"viewBox=\"0 0 24 24\"\n",
              "       width=\"24px\">\n",
              "    <path d=\"M0 0h24v24H0V0z\" fill=\"none\"/>\n",
              "    <path d=\"M18.56 5.44l.94 2.06.94-2.06 2.06-.94-2.06-.94-.94-2.06-.94 2.06-2.06.94zm-11 1L8.5 8.5l.94-2.06 2.06-.94-2.06-.94L8.5 2.5l-.94 2.06-2.06.94zm10 10l.94 2.06.94-2.06 2.06-.94-2.06-.94-.94-2.06-.94 2.06-2.06.94z\"/><path d=\"M17.41 7.96l-1.37-1.37c-.4-.4-.92-.59-1.43-.59-.52 0-1.04.2-1.43.59L10.3 9.45l-7.72 7.72c-.78.78-.78 2.05 0 2.83L4 21.41c.39.39.9.59 1.41.59.51 0 1.02-.2 1.41-.59l7.78-7.78 2.81-2.81c.8-.78.8-2.07 0-2.86zM5.41 20L4 18.59l7.72-7.72 1.47 1.35L5.41 20z\"/>\n",
              "  </svg>\n",
              "      </button>\n",
              "      \n",
              "  <style>\n",
              "    .colab-df-container {\n",
              "      display:flex;\n",
              "      flex-wrap:wrap;\n",
              "      gap: 12px;\n",
              "    }\n",
              "\n",
              "    .colab-df-convert {\n",
              "      background-color: #E8F0FE;\n",
              "      border: none;\n",
              "      border-radius: 50%;\n",
              "      cursor: pointer;\n",
              "      display: none;\n",
              "      fill: #1967D2;\n",
              "      height: 32px;\n",
              "      padding: 0 0 0 0;\n",
              "      width: 32px;\n",
              "    }\n",
              "\n",
              "    .colab-df-convert:hover {\n",
              "      background-color: #E2EBFA;\n",
              "      box-shadow: 0px 1px 2px rgba(60, 64, 67, 0.3), 0px 1px 3px 1px rgba(60, 64, 67, 0.15);\n",
              "      fill: #174EA6;\n",
              "    }\n",
              "\n",
              "    [theme=dark] .colab-df-convert {\n",
              "      background-color: #3B4455;\n",
              "      fill: #D2E3FC;\n",
              "    }\n",
              "\n",
              "    [theme=dark] .colab-df-convert:hover {\n",
              "      background-color: #434B5C;\n",
              "      box-shadow: 0px 1px 3px 1px rgba(0, 0, 0, 0.15);\n",
              "      filter: drop-shadow(0px 1px 2px rgba(0, 0, 0, 0.3));\n",
              "      fill: #FFFFFF;\n",
              "    }\n",
              "  </style>\n",
              "\n",
              "      <script>\n",
              "        const buttonEl =\n",
              "          document.querySelector('#df-07bc8efd-b5fc-48aa-a4f8-6c01a8bca0bc button.colab-df-convert');\n",
              "        buttonEl.style.display =\n",
              "          google.colab.kernel.accessAllowed ? 'block' : 'none';\n",
              "\n",
              "        async function convertToInteractive(key) {\n",
              "          const element = document.querySelector('#df-07bc8efd-b5fc-48aa-a4f8-6c01a8bca0bc');\n",
              "          const dataTable =\n",
              "            await google.colab.kernel.invokeFunction('convertToInteractive',\n",
              "                                                     [key], {});\n",
              "          if (!dataTable) return;\n",
              "\n",
              "          const docLinkHtml = 'Like what you see? Visit the ' +\n",
              "            '<a target=\"_blank\" href=https://colab.research.google.com/notebooks/data_table.ipynb>data table notebook</a>'\n",
              "            + ' to learn more about interactive tables.';\n",
              "          element.innerHTML = '';\n",
              "          dataTable['output_type'] = 'display_data';\n",
              "          await google.colab.output.renderOutput(dataTable, element);\n",
              "          const docLink = document.createElement('div');\n",
              "          docLink.innerHTML = docLinkHtml;\n",
              "          element.appendChild(docLink);\n",
              "        }\n",
              "      </script>\n",
              "    </div>\n",
              "  </div>\n",
              "  "
            ]
          },
          "metadata": {},
          "execution_count": 14
        }
      ],
      "source": [
        "df.corr()"
      ]
    },
    {
      "cell_type": "markdown",
      "metadata": {
        "id": "iZnb4awbOK7N"
      },
      "source": [
        "### Making new columns"
      ]
    },
    {
      "cell_type": "code",
      "execution_count": 1,
      "metadata": {
        "id": "mqqF6-puOK7N"
      },
      "outputs": [],
      "source": [
        "# New column of sex with female and male values for better understanding\n",
        "df[\"gender\"]=df[\"sex\"].replace(1,\"female\").replace(0,\"male\")\n",
        "# New column of patients stat\n",
        "df[\"patient_stat\"]=df[\"target\"].replace(1,\"disease\").replace(0,\"no disease\")\n",
        "df.head()"
      ]
    },
    {
      "cell_type": "markdown",
      "metadata": {
        "id": "mqmN0jrUOK7O"
      },
      "source": [
        "## Searchin for outliers"
      ]
    },
    {
      "cell_type": "code",
      "execution_count": null,
      "metadata": {
        "colab": {
          "base_uri": "https://localhost:8080/"
        },
        "id": "osRZjag2OK7O",
        "outputId": "9d7520fd-dc3f-406e-cafc-49216db0cfa8"
      },
      "outputs": [
        {
          "output_type": "execute_result",
          "data": {
            "text/plain": [
              "(918, 12)"
            ]
          },
          "metadata": {},
          "execution_count": 16
        }
      ],
      "source": [
        "# Shape of dataset before cleaning outliers\n",
        "df.shape"
      ]
    },
    {
      "cell_type": "code",
      "execution_count": 2,
      "metadata": {
        "id": "JHr_EAgCOK7O"
      },
      "outputs": [],
      "source": [
        "df['trestbps'].describe()"
      ]
    },
    {
      "cell_type": "code",
      "execution_count": null,
      "metadata": {
        "id": "X6mtbpzvOK7P"
      },
      "outputs": [],
      "source": [
        "#visualize outliers with boxplot\n",
        "plt.boxplot(df['trestbps'])"
      ]
    },
    {
      "cell_type": "code",
      "execution_count": null,
      "metadata": {
        "id": "f24JfNbzOK7P"
      },
      "outputs": [],
      "source": [
        "# Upper outlier threshold  Q3 + 1.5(IQR)\n",
        "max_threshold=140 + 1.5*(140 - 120)\n",
        "max_threshold\n"
      ]
    },
    {
      "cell_type": "code",
      "execution_count": null,
      "metadata": {
        "id": "NhtQM-XLOK7Q"
      },
      "outputs": [],
      "source": [
        "#how many outliers do we have (values greater than max_threshold)\n",
        "outliers=df[df.trestbps>max_threshold]\n",
        "outliers.shape"
      ]
    },
    {
      "cell_type": "code",
      "execution_count": null,
      "metadata": {
        "id": "1OFzsQLzOK7Q"
      },
      "outputs": [],
      "source": [
        "# Removing outliers\n",
        "df2=df[df.trestbps<max_threshold]\n",
        "# recalculate summary statistics\n",
        "df2['trestbps'].describe()"
      ]
    },
    {
      "cell_type": "code",
      "execution_count": null,
      "metadata": {
        "id": "gTa_NK0AOK7Q"
      },
      "outputs": [],
      "source": [
        "#boxplot after removing outliers\n",
        "plt.boxplot(df2['trestbps'])"
      ]
    },
    {
      "cell_type": "code",
      "execution_count": null,
      "metadata": {
        "id": "G1-uKxJ_OK7R",
        "scrolled": true
      },
      "outputs": [],
      "source": [
        "df['chol'].describe()"
      ]
    },
    {
      "cell_type": "code",
      "execution_count": null,
      "metadata": {
        "id": "nZPdoH8LOK7R"
      },
      "outputs": [],
      "source": [
        "#visualize outliers with boxplot\n",
        "plt.boxplot(df['chol'])"
      ]
    },
    {
      "cell_type": "code",
      "execution_count": null,
      "metadata": {
        "id": "RXSfwcYyOK7R"
      },
      "outputs": [],
      "source": [
        "# Upper outlier threshold  Q3 + 1.5(IQR)\n",
        "max_threshold=275 + 1.5*(275 - 211)\n",
        "max_threshold"
      ]
    },
    {
      "cell_type": "code",
      "execution_count": null,
      "metadata": {
        "id": "0XZSnCq-OK7S"
      },
      "outputs": [],
      "source": [
        "#how many outliers do we have (values greater than max_threshold)\n",
        "outliers=df[df.chol>max_threshold]\n",
        "outliers.shape"
      ]
    },
    {
      "cell_type": "code",
      "execution_count": null,
      "metadata": {
        "id": "HvCrA3cuOK7S"
      },
      "outputs": [],
      "source": [
        "# Removing outliers\n",
        "df3=df2[df2.chol<max_threshold]\n",
        "# recaculate summary statistics\n",
        "df3['chol'].describe()"
      ]
    },
    {
      "cell_type": "code",
      "execution_count": null,
      "metadata": {
        "id": "whAb7Gh1OK7S",
        "scrolled": true
      },
      "outputs": [],
      "source": [
        "#boxplot after removing outliers\n",
        "plt.boxplot(df3['chol'])"
      ]
    },
    {
      "cell_type": "code",
      "execution_count": null,
      "metadata": {
        "id": "FVnOlFsrOK7T"
      },
      "outputs": [],
      "source": [
        "df['thalach'].describe()"
      ]
    },
    {
      "cell_type": "code",
      "execution_count": null,
      "metadata": {
        "id": "8iN8UXH9OK7T",
        "scrolled": true
      },
      "outputs": [],
      "source": [
        "#visualize outliers with boxplot\n",
        "plt.boxplot(df['thalach'])"
      ]
    },
    {
      "cell_type": "code",
      "execution_count": null,
      "metadata": {
        "id": "ZxcPtHGHOK7T"
      },
      "outputs": [],
      "source": [
        "#Lower Outlier Threshold = Q1 – 1.5(IQR)\n",
        "lower_threshold= 132 - 1.5*(166-132)\n",
        "lower_threshold"
      ]
    },
    {
      "cell_type": "code",
      "execution_count": null,
      "metadata": {
        "id": "3drV3SSeOK7T"
      },
      "outputs": [],
      "source": [
        "# Removing outliers\n",
        "df4=df3[df3.thalach>lower_threshold]\n",
        "# recaculate summary statistics\n",
        "df4['thalach'].describe()"
      ]
    },
    {
      "cell_type": "code",
      "execution_count": null,
      "metadata": {
        "id": "DJ8RuF3hOK7U"
      },
      "outputs": [],
      "source": [
        "#boxplot after removing outliers\n",
        "plt.boxplot(df4['thalach'])"
      ]
    },
    {
      "cell_type": "code",
      "execution_count": null,
      "metadata": {
        "id": "TDdE2_WnOK7U"
      },
      "outputs": [],
      "source": [
        "df4['oldpeak'].describe()"
      ]
    },
    {
      "cell_type": "code",
      "execution_count": null,
      "metadata": {
        "id": "GF1qXxeaOK7U"
      },
      "outputs": [],
      "source": [
        "#visualize outliers with boxplot\n",
        "plt.boxplot(df4['oldpeak'])"
      ]
    },
    {
      "cell_type": "code",
      "execution_count": null,
      "metadata": {
        "id": "qhZI_MB8OK7U"
      },
      "outputs": [],
      "source": [
        "# Upper outlier threshold  Q3 + 1.5(IQR)\n",
        "max_threshold=275 + 1.5*(275 - 211)\n",
        "max_threshold=1.6+1.5*(1.6)\n",
        "max_threshold"
      ]
    },
    {
      "cell_type": "code",
      "execution_count": null,
      "metadata": {
        "id": "Ef7XZ1sEOK7V"
      },
      "outputs": [],
      "source": [
        "# Removing outliers\n",
        "df5=df4[df4.oldpeak<max_threshold]\n",
        "# recaculate summary statistics\n",
        "df5['oldpeak'].describe()"
      ]
    },
    {
      "cell_type": "code",
      "execution_count": null,
      "metadata": {
        "id": "DCAqKr9SOK7V"
      },
      "outputs": [],
      "source": [
        "#visualize outliers with boxplot\n",
        "plt.boxplot(df5['oldpeak'])"
      ]
    },
    {
      "cell_type": "code",
      "execution_count": null,
      "metadata": {
        "id": "52kkgGCYOK7V"
      },
      "outputs": [],
      "source": [
        "# shape of dataset after cleaning dataset\n",
        "df5.shape"
      ]
    },
    {
      "cell_type": "markdown",
      "metadata": {
        "id": "qgQThkrwOK7W"
      },
      "source": [
        "## Data visualization"
      ]
    },
    {
      "cell_type": "code",
      "execution_count": null,
      "metadata": {
        "id": "2rKy2Q-1OK7W",
        "scrolled": true
      },
      "outputs": [],
      "source": [
        "# Percentage of female and male patient with heart disease\n",
        "plt.pie(x=df5['patient_stat'].value_counts(), labels=df5['gender'].value_counts().index, autopct='%1.1f%%')\n",
        "plt.show()"
      ]
    },
    {
      "cell_type": "code",
      "execution_count": null,
      "metadata": {
        "id": "P-T8OrZmOK7W",
        "scrolled": true
      },
      "outputs": [],
      "source": [
        "# female and male average cholesterol \n",
        "df5.groupby('gender')['chol'].mean().plot.bar()"
      ]
    },
    {
      "cell_type": "markdown",
      "metadata": {
        "id": "DTaeVZTDOK7W"
      },
      "source": [
        "We can see from the top diagram that males have little higher  cholesterol then females."
      ]
    },
    {
      "cell_type": "code",
      "execution_count": null,
      "metadata": {
        "id": "Rm4Jz0cVOK7W",
        "scrolled": true
      },
      "outputs": [],
      "source": [
        "title = 'Chest pain by age'\n",
        "plt.figure(figsize=(8,5))\n",
        "sns.scatterplot(df5.age,df5.cp,hue=df5.patient_stat).set_title(title)\n",
        "plt.ioff()"
      ]
    },
    {
      "cell_type": "markdown",
      "metadata": {
        "id": "wpcrbgGPOK7X"
      },
      "source": [
        "Patients with no disease have lowest  chest pain at almost every age. Patients with disease have chest pain even in younger ages but it's not high. The most patient with heart disease between 35 and 70 have chest pain value 1-2."
      ]
    },
    {
      "cell_type": "markdown",
      "metadata": {
        "id": "AGNsAI0tOK7X"
      },
      "source": [
        "## Categorize \"age\" column"
      ]
    },
    {
      "cell_type": "code",
      "execution_count": null,
      "metadata": {
        "id": "b12euTVAOK7X"
      },
      "outputs": [],
      "source": [
        "#Lenght of unique values in age column\n",
        "len(df5[\"age\"].unique())"
      ]
    },
    {
      "cell_type": "code",
      "execution_count": null,
      "metadata": {
        "id": "ylpKClRAOK7X",
        "scrolled": true
      },
      "outputs": [],
      "source": [
        "df5[\"age\"].describe()"
      ]
    },
    {
      "cell_type": "code",
      "execution_count": null,
      "metadata": {
        "id": "zBeUhzpeOK7Y"
      },
      "outputs": [],
      "source": [
        "df6=df5.copy()"
      ]
    },
    {
      "cell_type": "code",
      "execution_count": null,
      "metadata": {
        "id": "5oZ5O4zDOK7Y"
      },
      "outputs": [],
      "source": [
        "# Defining function that will categorize age column into three groups\n",
        "def age (row):\n",
        "    if row[\"age\"]<=35:\n",
        "        return \"Young\"\n",
        "    if(35< row[\"age\"]<=55):\n",
        "        return \"Mid_age\"\n",
        "    else:\n",
        "        return \"Old\"\n",
        "\n",
        "df6[\"old\"]=df6.apply(age,axis=1)"
      ]
    },
    {
      "cell_type": "code",
      "execution_count": null,
      "metadata": {
        "id": "r3YdRxqROK7Y",
        "scrolled": false
      },
      "outputs": [],
      "source": [
        "df6.head()"
      ]
    },
    {
      "cell_type": "markdown",
      "metadata": {
        "id": "qnMT0E3JOK7Y"
      },
      "source": [
        "## Categorize \"trestbps\" column "
      ]
    },
    {
      "cell_type": "code",
      "execution_count": null,
      "metadata": {
        "id": "7L2n7sPXOK7Y"
      },
      "outputs": [],
      "source": [
        "#Lenght of unique values in trestbps column\n",
        "len(df6[\"trestbps\"].unique())"
      ]
    },
    {
      "cell_type": "code",
      "execution_count": null,
      "metadata": {
        "id": "hWAaY52nOK7Y"
      },
      "outputs": [],
      "source": [
        "df6[\"trestbps\"].describe()"
      ]
    },
    {
      "cell_type": "code",
      "execution_count": null,
      "metadata": {
        "id": "wIQOcmOzOK7Z"
      },
      "outputs": [],
      "source": [
        "#Calculating average blood pressure\n",
        "df6[\"trestbps\"].mean()"
      ]
    },
    {
      "cell_type": "code",
      "execution_count": null,
      "metadata": {
        "id": "_HWABZmtOK7Z"
      },
      "outputs": [],
      "source": [
        "df7=df6.copy()"
      ]
    },
    {
      "cell_type": "code",
      "execution_count": null,
      "metadata": {
        "id": "ZcbNdhCBOK7Z",
        "scrolled": true
      },
      "outputs": [],
      "source": [
        "# Defining function that will categorize blood_pressure into three groups\n",
        "def blood_pressure (row):\n",
        "    if row[\"trestbps\"]<=115:\n",
        "        return \"Low_pressure\"\n",
        "    if(115< row[\"trestbps\"]<=130):\n",
        "        return \"Normal_pressure\"\n",
        "    else:\n",
        "        return \"High\"\n",
        "\n",
        "df7[\"blood_pressure_stat\"]=df7.apply(blood_pressure,axis=1)\n",
        "df7.head()"
      ]
    },
    {
      "cell_type": "markdown",
      "metadata": {
        "id": "3FmGBr6ZOK7Z"
      },
      "source": [
        "## Categorize \"chol\" column"
      ]
    },
    {
      "cell_type": "code",
      "execution_count": null,
      "metadata": {
        "id": "XCOf5S1DOK7a"
      },
      "outputs": [],
      "source": [
        "#Lenght of unique values in chol column\n",
        "len(df7[\"chol\"].unique())"
      ]
    },
    {
      "cell_type": "code",
      "execution_count": null,
      "metadata": {
        "id": "hQ_dgmf-OK7a"
      },
      "outputs": [],
      "source": [
        "df7[\"chol\"].describe()"
      ]
    },
    {
      "cell_type": "code",
      "execution_count": null,
      "metadata": {
        "id": "gd-r0TolOK7a",
        "scrolled": true
      },
      "outputs": [],
      "source": [
        "#calculating average cholesterol \n",
        "df7[\"chol\"].mean()"
      ]
    },
    {
      "cell_type": "code",
      "execution_count": null,
      "metadata": {
        "id": "TzEPvt3wOK7a"
      },
      "outputs": [],
      "source": [
        "df8=df7.copy()"
      ]
    },
    {
      "cell_type": "code",
      "execution_count": null,
      "metadata": {
        "id": "Fl33waneOK7a"
      },
      "outputs": [],
      "source": [
        "#function for categorize chol column into 3 groups\n",
        "def chol_stat (row):\n",
        "    if row[\"chol\"]<=160:\n",
        "        return \"Low_chol\"\n",
        "    if(160< row[\"chol\"]<=250):\n",
        "        return \"mid_chol\"\n",
        "    else:\n",
        "        return \"High_chol\"\n",
        "\n",
        "df8[\"chol_stat\"]=df8.apply(chol_stat,axis=1)\n",
        "df8.head()"
      ]
    },
    {
      "cell_type": "markdown",
      "metadata": {
        "id": "oOaYDVKyOK7b"
      },
      "source": [
        "## Categorize \"thalach\" column"
      ]
    },
    {
      "cell_type": "code",
      "execution_count": null,
      "metadata": {
        "id": "Bad43lEBOK7b",
        "scrolled": true
      },
      "outputs": [],
      "source": [
        "df8[\"thalach\"].describe()"
      ]
    },
    {
      "cell_type": "code",
      "execution_count": null,
      "metadata": {
        "id": "qzwwsdrnOK7b"
      },
      "outputs": [],
      "source": [
        "# Calculating average value of heart rate\n",
        "df8[\"thalach\"].mean()"
      ]
    },
    {
      "cell_type": "code",
      "execution_count": null,
      "metadata": {
        "id": "S87ZEFQYOK7b"
      },
      "outputs": [],
      "source": [
        "df9=df8.copy()"
      ]
    },
    {
      "cell_type": "code",
      "execution_count": null,
      "metadata": {
        "id": "DyRAqt9FOK7b"
      },
      "outputs": [],
      "source": [
        "#function to categorize thalach column into  three groups\n",
        "def heart_rate (row):\n",
        "    if row[\"thalach\"]<=120:\n",
        "        return \"Low_rate\"\n",
        "    if(110< row[\"thalach\"]<=160):\n",
        "        return \"mid_rate\"\n",
        "    else:\n",
        "        return \"High_rate\"\n",
        "\n",
        "df9[\"heart_rate_stat\"]=df9.apply(heart_rate,axis=1)\n",
        "df9.head()"
      ]
    },
    {
      "cell_type": "markdown",
      "metadata": {
        "id": "o0ypm5lMOK7c"
      },
      "source": [
        "## Categorize \"oldpeak\" column"
      ]
    },
    {
      "cell_type": "code",
      "execution_count": null,
      "metadata": {
        "id": "_mKRNl2zOK7c",
        "scrolled": true
      },
      "outputs": [],
      "source": [
        "df9[\"oldpeak\"].describe()"
      ]
    },
    {
      "cell_type": "code",
      "execution_count": null,
      "metadata": {
        "id": "q7ZmZ5OjOK7c"
      },
      "outputs": [],
      "source": [
        "#Calculating average depression level\n",
        "df9[\"oldpeak\"].mean()"
      ]
    },
    {
      "cell_type": "code",
      "execution_count": null,
      "metadata": {
        "id": "wKxm2Se2OK7c"
      },
      "outputs": [],
      "source": [
        "df10=df9.copy()"
      ]
    },
    {
      "cell_type": "code",
      "execution_count": null,
      "metadata": {
        "id": "_uA0fi7IOK7c",
        "scrolled": true
      },
      "outputs": [],
      "source": [
        "#function that categorize oldpeak column into groups\n",
        "def depression (row):\n",
        "    if row[\"oldpeak\"]<=1:\n",
        "        return \"Low_rate\"\n",
        "    if(1< row[\"oldpeak\"]<=2):\n",
        "        return \"mid_rate\"\n",
        "    else:\n",
        "        return \"High_rate\"\n",
        "\n",
        "df10[\"depression_stat\"]=df10.apply(depression,axis=1)\n",
        "df10.head()"
      ]
    },
    {
      "cell_type": "markdown",
      "metadata": {
        "id": "G7AyONeFOK7d"
      },
      "source": [
        "## Preparing dataset for model"
      ]
    },
    {
      "cell_type": "code",
      "execution_count": null,
      "metadata": {
        "id": "E8y4cX-EOK7d"
      },
      "outputs": [],
      "source": [
        "#Droping columns that we don't need\n",
        "df11=df10.drop([\"age\",\"trestbps\",\"chol\",\"thalach\",\"oldpeak\",\"gender\",\"patient_stat\"],axis=1)\n",
        "df11.head()"
      ]
    },
    {
      "cell_type": "code",
      "execution_count": null,
      "metadata": {
        "id": "RLafNf-2OK7d"
      },
      "outputs": [],
      "source": [
        "# Correlation between columns\n",
        "df11.corr()"
      ]
    },
    {
      "cell_type": "code",
      "execution_count": null,
      "metadata": {
        "id": "Q2q1TAWEOK7d",
        "scrolled": true
      },
      "outputs": [],
      "source": [
        "import seaborn as sns\n",
        "#Showing correlation between columns\n",
        "plt.figure(figsize=(8,5))\n",
        "sns.heatmap(df11.corr(), annot=True, cmap='coolwarm')"
      ]
    },
    {
      "cell_type": "markdown",
      "metadata": {
        "id": "TXSPAJkPOK7d"
      },
      "source": [
        "Everything looks fine. We don't need to drop any column."
      ]
    },
    {
      "cell_type": "code",
      "execution_count": null,
      "metadata": {
        "id": "FWMz1nAn_GCA"
      },
      "outputs": [],
      "source": [
        ""
      ]
    },
    {
      "cell_type": "markdown",
      "metadata": {
        "id": "Lihm4u8iOK7e"
      },
      "source": [
        "### Creating dummy columns"
      ]
    },
    {
      "cell_type": "code",
      "execution_count": null,
      "metadata": {
        "id": "XS_LnXl6OK7e"
      },
      "outputs": [],
      "source": [
        "#function for creating dummies\n",
        "def create_dummies(df,column_name):\n",
        "    dummies=pd.get_dummies(df[column_name],prefix=column_name)\n",
        "    df=pd.concat([df,dummies],axis=1)\n",
        "    return df"
      ]
    },
    {
      "cell_type": "code",
      "execution_count": null,
      "metadata": {
        "id": "mSDumfxGOK7e"
      },
      "outputs": [],
      "source": [
        "#Using function on dataframe and columns\n",
        "\n",
        "df12=create_dummies(df11,\"old\")\n",
        "df13=df12.drop([\"old\"],axis=1)\n",
        "\n",
        "df14=create_dummies(df13,\"blood_pressure_stat\")\n",
        "df15=df14.drop([\"blood_pressure_stat\"],axis=1)\n",
        "\n",
        "df16=create_dummies(df15,\"chol_stat\")\n",
        "df17=df16.drop([\"chol_stat\"],axis=1)\n",
        "\n",
        "df18=create_dummies(df17,\"heart_rate_stat\")\n",
        "df19=df18.drop([\"heart_rate_stat\"],axis=1)\n",
        "\n",
        "df20=create_dummies(df19,\"depression_stat\")\n",
        "df21=df20.drop([\"depression_stat\"],axis=1)\n",
        "\n",
        "df22=create_dummies(df21,\"slope\")\n",
        "df23=df22.drop([\"slope\"],axis=1)\n",
        "\n",
        "df24=create_dummies(df23,\"ca\")\n",
        "df25=df24.drop([\"ca\"],axis=1)\n",
        "\n",
        "df26=create_dummies(df25,\"thal\")\n",
        "df27=df26.drop([\"thal\"],axis=1)\n",
        "\n"
      ]
    },
    {
      "cell_type": "code",
      "execution_count": null,
      "metadata": {
        "id": "LbxQ0UpSOK7e"
      },
      "outputs": [],
      "source": [
        "df27.head()"
      ]
    },
    {
      "cell_type": "markdown",
      "metadata": {
        "id": "2xWNCzIJOK7e"
      },
      "source": [
        "### Spliting dataframe on train and test "
      ]
    },
    {
      "cell_type": "code",
      "execution_count": null,
      "metadata": {
        "id": "Vi_LR0SOOK7e"
      },
      "outputs": [],
      "source": [
        "from sklearn.model_selection import cross_val_score\n",
        "from sklearn.metrics import accuracy_score"
      ]
    },
    {
      "cell_type": "code",
      "execution_count": null,
      "metadata": {
        "id": "v-_txGQeytzS"
      },
      "outputs": [],
      "source": [
        "# Defining features (X) and target column(y)\n",
        "X=df27.drop(\"target\",axis=1)\n",
        "y=df27[\"target\"]"
      ]
    },
    {
      "cell_type": "code",
      "execution_count": null,
      "metadata": {
        "id": "LRTycbHzOK7f"
      },
      "outputs": [],
      "source": [
        "from sklearn.model_selection import train_test_split\n",
        "train_X,test_X,train_y,test_y=train_test_split(X,y,train_size=0.7,random_state=1)"
      ]
    },
    {
      "cell_type": "markdown",
      "metadata": {
        "id": "5Le0-q5wOK7f"
      },
      "source": [
        "# Predictive models"
      ]
    },
    {
      "cell_type": "markdown",
      "metadata": {
        "id": "OsD16ByOOK7g"
      },
      "source": [
        "### K Neighbors classifier model"
      ]
    },
    {
      "cell_type": "code",
      "execution_count": null,
      "metadata": {
        "id": "C9dqJS4bOK7g"
      },
      "outputs": [],
      "source": [
        "# Importing KNeighborsClassifier model\n",
        "from sklearn.neighbors import KNeighborsClassifier"
      ]
    },
    {
      "cell_type": "code",
      "execution_count": null,
      "metadata": {
        "id": "pZJA5KVIOK7g"
      },
      "outputs": [],
      "source": [
        "# Defining model\n",
        "kn=KNeighborsClassifier()"
      ]
    },
    {
      "cell_type": "code",
      "execution_count": null,
      "metadata": {
        "id": "OlWDKePHOK7h"
      },
      "outputs": [],
      "source": [
        "#Fitting model\n",
        "kn.fit(train_X, train_y)"
      ]
    },
    {
      "cell_type": "code",
      "execution_count": null,
      "metadata": {
        "id": "gUo3IVlEOK7h"
      },
      "outputs": [],
      "source": [
        "#Predicting values on test set\n",
        "predictions_kn=kn.predict(test_X)"
      ]
    },
    {
      "cell_type": "markdown",
      "metadata": {
        "id": "h1VSoRBgOK7h"
      },
      "source": [
        "### K Neighbors classifier accuracy"
      ]
    },
    {
      "cell_type": "code",
      "execution_count": null,
      "metadata": {
        "id": "1xJ69iBUOK7h"
      },
      "outputs": [],
      "source": [
        "#KNeighborsClassifier accuracy with accuracy_score\n",
        "accuracy_kn=accuracy_score(test_y, predictions_kn)\n",
        "accuracy_kn"
      ]
    },
    {
      "cell_type": "code",
      "execution_count": null,
      "metadata": {
        "id": "2PTCY4-3OK7i",
        "scrolled": true
      },
      "outputs": [],
      "source": [
        "#KNeighborsClassifier accuracy with cros_val_score\n",
        "accuracy_cross_val_kn=cross_val_score(kn, X, y, cv=10)\n",
        "accuracy_cross_val_kn\n"
      ]
    },
    {
      "cell_type": "code",
      "execution_count": null,
      "metadata": {
        "id": "15cbAks4OK7i"
      },
      "outputs": [],
      "source": [
        "#calculating cross_val_score mean\n",
        "accuracy_cross_val_knc=np.mean(accuracy_cross_val_kn)\n",
        "accuracy_cross_val_knc"
      ]
    },
    {
      "cell_type": "markdown",
      "metadata": {
        "id": "bw99ljmhOK7i"
      },
      "source": [
        "### Logistic Regression model"
      ]
    },
    {
      "cell_type": "code",
      "execution_count": null,
      "metadata": {
        "id": "_9h6MXdBOK7j"
      },
      "outputs": [],
      "source": [
        "# Importing LogisticRegression model\n",
        "from sklearn.linear_model import LogisticRegression"
      ]
    },
    {
      "cell_type": "code",
      "execution_count": null,
      "metadata": {
        "id": "pQdxOzoeOK7j"
      },
      "outputs": [],
      "source": [
        "# Defininig model\n",
        "lr=LogisticRegression()"
      ]
    },
    {
      "cell_type": "code",
      "execution_count": null,
      "metadata": {
        "id": "wpPq3OusOK7j"
      },
      "outputs": [],
      "source": [
        "# fitting the model\n",
        "lr.fit(train_X, train_y)"
      ]
    },
    {
      "cell_type": "code",
      "execution_count": null,
      "metadata": {
        "id": "5qdRrfKrOK7j"
      },
      "outputs": [],
      "source": [
        "# predicting values on test set\n",
        "predictions_lr=lr.predict(test_X)"
      ]
    },
    {
      "cell_type": "code",
      "execution_count": null,
      "metadata": {
        "id": "ZpG6brtGytzX"
      },
      "outputs": [],
      "source": [
        "# predicting values on test set\n",
        "predictions_l1r=lr.predict(train_X)"
      ]
    },
    {
      "cell_type": "markdown",
      "metadata": {
        "id": "IAxdWr5HOK7k"
      },
      "source": [
        "### Logistic Regression accuracy"
      ]
    },
    {
      "cell_type": "code",
      "execution_count": null,
      "metadata": {
        "id": "qt3jQ2k_OK7k"
      },
      "outputs": [],
      "source": [
        "# calculating accuracy with accuracy_score()\n",
        "accuracy_lr=accuracy_score(test_y, predictions_lr)\n",
        "accuracy_lr"
      ]
    },
    {
      "cell_type": "code",
      "execution_count": null,
      "metadata": {
        "id": "L4b7TvVFytzY"
      },
      "outputs": [],
      "source": [
        "accuracy_lr1=accuracy_score(train_y, predictions_l1r)\n",
        "accuracy_lr1"
      ]
    },
    {
      "cell_type": "code",
      "execution_count": null,
      "metadata": {
        "id": "Pq3bJd3FOK7k"
      },
      "outputs": [],
      "source": [
        "# calculating accuracy result with cross_val_score()\n",
        "accuracy_cross_val_lr=cross_val_score(lr, X, y, cv=10)\n",
        "accuracy_cross_val_lr"
      ]
    },
    {
      "cell_type": "code",
      "execution_count": null,
      "metadata": {
        "id": "c6Y10Ro0OK7l"
      },
      "outputs": [],
      "source": [
        "#calculating cross_val_score mean\n",
        "accuracy_cross_val_lr=np.mean(accuracy_cross_val_lr)\n",
        "accuracy_cross_val_lr"
      ]
    },
    {
      "cell_type": "markdown",
      "metadata": {
        "id": "mVzKPZxd8SGO"
      },
      "source": [
        "## Finding log likelihood of the model"
      ]
    },
    {
      "cell_type": "code",
      "execution_count": null,
      "metadata": {
        "id": "-Ije61Ii7Xz-"
      },
      "outputs": [],
      "source": [
        "from sklearn.metrics import log_loss\n",
        "log_likelihood = -log_loss(test_y, predictions_lr)*len(test_y)\n",
        "log_likelihood"
      ]
    },
    {
      "cell_type": "markdown",
      "metadata": {
        "id": "37T8U7KmOK7l"
      },
      "source": [
        "###  Random Forest classifier model"
      ]
    },
    {
      "cell_type": "code",
      "execution_count": null,
      "metadata": {
        "id": "JI29EIe4OK7l"
      },
      "outputs": [],
      "source": [
        "#Importing RandomForestClassifier model\n",
        "from sklearn.ensemble import RandomForestClassifier"
      ]
    },
    {
      "cell_type": "code",
      "execution_count": null,
      "metadata": {
        "id": "CLB30dTYOK7l"
      },
      "outputs": [],
      "source": [
        "#Defining model\n",
        "rf=RandomForestClassifier(n_estimators=5, random_state=1, min_samples_leaf=2)"
      ]
    },
    {
      "cell_type": "code",
      "execution_count": null,
      "metadata": {
        "id": "DlY2ucA1OK7m"
      },
      "outputs": [],
      "source": [
        "# fitting the model\n",
        "rf.fit(train_X, train_y)"
      ]
    },
    {
      "cell_type": "code",
      "execution_count": null,
      "metadata": {
        "id": "GNy1q4O9OK7m"
      },
      "outputs": [],
      "source": [
        "# predicting values on test set\n",
        "predictions_rf=rf.predict(test_X)"
      ]
    },
    {
      "cell_type": "markdown",
      "metadata": {
        "id": "BSWmwuZAOK7m"
      },
      "source": [
        "###  Random Forest classifier accuracy\n"
      ]
    },
    {
      "cell_type": "code",
      "execution_count": null,
      "metadata": {
        "id": "bOL7kvOIOK7m"
      },
      "outputs": [],
      "source": [
        "# calculating accuracy with accuracy_score()\n",
        "accuracy_rf=accuracy_score(test_y, predictions_rf)\n",
        "accuracy_rf"
      ]
    },
    {
      "cell_type": "code",
      "execution_count": null,
      "metadata": {
        "id": "vxvidSQVOK7n"
      },
      "outputs": [],
      "source": [
        "# calculating accuracy result with cross_val_score()\n",
        "accuracy_cross_val_rf=cross_val_score(rf, X, y, cv=10)\n",
        "accuracy_cross_val_rf"
      ]
    },
    {
      "cell_type": "code",
      "execution_count": null,
      "metadata": {
        "id": "4ySZC_N0OK7n"
      },
      "outputs": [],
      "source": [
        "#calculating cross_val_score mean\n",
        "accuracy_cross_val_rf=np.mean(accuracy_cross_val_rf)\n",
        "accuracy_cross_val_rf"
      ]
    },
    {
      "cell_type": "markdown",
      "metadata": {
        "id": "vnfFSjeRX08p"
      },
      "source": [
        "# Nested model of the above model (by feature selection)"
      ]
    },
    {
      "cell_type": "code",
      "execution_count": null,
      "metadata": {
        "id": "qz1JcXrgX0US"
      },
      "outputs": [],
      "source": [
        "df=pd.read_csv(\"C:\\\\Users\\\\supri\\\\Downloads\\\\Project_heart_disease-main\\\\Project_heart_disease-main\\\\heart.csv\")\n",
        "df.head()"
      ]
    },
    {
      "cell_type": "code",
      "execution_count": null,
      "metadata": {
        "id": "zgbazFfzXSr4"
      },
      "outputs": [],
      "source": [
        "corr_matrix = df.corr()\n",
        "f, ax = plt.subplots(figsize=(13, 10))\n",
        "sns.heatmap(corr_matrix, annot = True);"
      ]
    },
    {
      "cell_type": "markdown",
      "metadata": {
        "id": "7998TsMiZnQr"
      },
      "source": [
        "After observing Correlatio heatmat, Choosing threshold value as -0.3"
      ]
    },
    {
      "cell_type": "code",
      "execution_count": null,
      "metadata": {
        "id": "GQi4yOoOZm22"
      },
      "outputs": [],
      "source": [
        "threshold=0.2\n",
        "a=abs(corr_matrix['target'])\n",
        "result=a[a>0.2]\n",
        "result"
      ]
    },
    {
      "cell_type": "code",
      "execution_count": null,
      "metadata": {
        "id": "2v1Q4KWlamVk"
      },
      "outputs": [],
      "source": [
        "a=abs(corr_matrix['target'])\n",
        "result=a[a<0.2]\n",
        "result"
      ]
    },
    {
      "cell_type": "code",
      "execution_count": null,
      "metadata": {
        "id": "g7cuTFBNZcP1"
      },
      "outputs": [],
      "source": [
        "df1=df.drop([\"trestbps\",\"chol\",\"fbs\",\"restecg\"],axis=1)\n",
        "df1.head()"
      ]
    },
    {
      "cell_type": "code",
      "execution_count": null,
      "metadata": {
        "id": "KVeJNnGrytzd"
      },
      "outputs": [],
      "source": [
        "corr_matrix = df1.corr()\n",
        "f, ax = plt.subplots(figsize=(13, 10))\n",
        "sns.heatmap(corr_matrix, annot = True);"
      ]
    },
    {
      "cell_type": "code",
      "execution_count": null,
      "metadata": {
        "id": "XHzP2-cPb7jL"
      },
      "outputs": [],
      "source": [
        "x = df1.drop('target', axis=1)\n",
        "Y = df1[\"target\"]"
      ]
    },
    {
      "cell_type": "code",
      "execution_count": null,
      "metadata": {
        "id": "rU1bWq7xbugs"
      },
      "outputs": [],
      "source": [
        "from sklearn.model_selection import train_test_split, cross_val_score\n",
        "from sklearn.metrics import accuracy_score, classification_report, precision_score, recall_score \n",
        "from sklearn.metrics import confusion_matrix, precision_recall_curve, roc_curve, auc, log_loss\n",
        "x_train, x_test, Y_train, Y_test = train_test_split(x, Y, test_size=0.7, random_state=2)"
      ]
    },
    {
      "cell_type": "code",
      "execution_count": null,
      "metadata": {
        "id": "52UW19M0cGGh"
      },
      "outputs": [],
      "source": [
        "from sklearn.linear_model import LogisticRegression\n",
        "regressor=LogisticRegression()\n",
        "regressor.fit(x_train,Y_train)\n",
        "Y_pred=regressor.predict(x_test)\n",
        "Y_pred"
      ]
    },
    {
      "cell_type": "code",
      "execution_count": null,
      "metadata": {
        "id": "zz1tBmSDcJ3w"
      },
      "outputs": [],
      "source": [
        "import sklearn\n",
        "from sklearn.metrics import accuracy_score\n",
        "sklearn.metrics.accuracy_score(Y_test,Y_pred)"
      ]
    },
    {
      "cell_type": "code",
      "execution_count": null,
      "metadata": {
        "id": "3LpX0OKWcOnU"
      },
      "outputs": [],
      "source": [
        "from sklearn.metrics import confusion_matrix\n",
        "cm = confusion_matrix(Y_test, Y_pred)\n",
        "\n",
        "fig, ax = plt.subplots(figsize=(8, 8))\n",
        "ax.imshow(cm)\n",
        "ax.grid(False)\n",
        "ax.xaxis.set(ticks=(0, 1), ticklabels=('Predicted 0s', 'Predicted 1s'))\n",
        "ax.yaxis.set(ticks=(0, 1), ticklabels=('Actual 0s', 'Actual 1s'))\n",
        "ax.set_ylim(1.5, -0.5)\n",
        "for i in range(2):\n",
        "    for j in range(2):\n",
        "        ax.text(j, i, cm[i, j], ha='center', va='center', color='red')\n",
        "plt.show()"
      ]
    },
    {
      "cell_type": "markdown",
      "metadata": {
        "id": "oMBt-8Ti6cq1"
      },
      "source": [
        "## Calculating log likelihood"
      ]
    },
    {
      "cell_type": "code",
      "execution_count": null,
      "metadata": {
        "id": "kua8-tU7cTvE"
      },
      "outputs": [],
      "source": [
        "log_likelihood = -log_loss(Y_test,Y_pred)*len(Y_test)\n",
        "log_likelihood"
      ]
    },
    {
      "cell_type": "code",
      "execution_count": null,
      "metadata": {
        "id": "aafe937f"
      },
      "outputs": [],
      "source": [
        "TN=cm[0,0]\n",
        "TP=cm[1,1]\n",
        "FN=cm[1,0]\n",
        "FP=cm[0,1]"
      ]
    },
    {
      "cell_type": "code",
      "execution_count": null,
      "metadata": {
        "id": "e6358b04"
      },
      "outputs": [],
      "source": [
        "Accuracy = (TP+TN)/float(TP+TN+FP+FN)\n",
        "Sensitivity = TP/float(TP+FN)\n",
        "Specificity = TN/float(TN+FP)\n",
        "Positive_Value = TP/float(TP+FP)\n",
        "print('The acuuracy of the model = ', Accuracy)\n",
        "print('True Positive Rate = ', Sensitivity)\n",
        "print('True Negative Rate = ', Specificity)\n",
        "print('TPositive Predicted Value = ', Positive_Value)"
      ]
    },
    {
      "cell_type": "code",
      "execution_count": null,
      "metadata": {
        "id": "75e55182"
      },
      "outputs": [],
      "source": [
        "# Predicted probabilities of 0 and 1 for the test data \n",
        "prob=regressor.predict_proba(x_test)\n",
        "prob_data=pd.DataFrame(data=prob)\n",
        "prob_data"
      ]
    },
    {
      "cell_type": "code",
      "execution_count": null,
      "metadata": {
        "id": "e0c65e3f"
      },
      "outputs": [],
      "source": [
        "# Predicted probabilities of 0 and 1 for the test data \n",
        "probability=regressor.predict_proba(x_train)[:,:]\n",
        "prob_data=pd.DataFrame(data=probability)\n",
        "prob_data"
      ]
    },
    {
      "cell_type": "code",
      "execution_count": null,
      "metadata": {
        "id": "7efe7727"
      },
      "outputs": [],
      "source": [
        "from sklearn.metrics import roc_curve\n",
        "fpr, tpr, thresholds = roc_curve(Y_test, prob[:,1])\n",
        "plt.plot(fpr,tpr)\n",
        "plt.xlim([0.0, 1.0])\n",
        "plt.ylim([0.0, 1.0])\n",
        "plt.title('ROC curve')\n",
        "plt.xlabel('False positive rate')\n",
        "plt.ylabel('True positive rate ')\n",
        "plt.grid(True)"
      ]
    },
    {
      "cell_type": "code",
      "execution_count": null,
      "metadata": {
        "id": "e969f356"
      },
      "outputs": [],
      "source": [
        "sklearn.metrics.roc_auc_score(Y_test,prob[:,1])"
      ]
    },
    {
      "cell_type": "code",
      "execution_count": null,
      "metadata": {
        "id": "be1adccc"
      },
      "outputs": [],
      "source": [
        "from sklearn.metrics import precision_score\n",
        "Precision = precision_score(Y_test, Y_pred)\n",
        "Precision"
      ]
    },
    {
      "cell_type": "code",
      "execution_count": null,
      "metadata": {
        "id": "3f4573b2"
      },
      "outputs": [],
      "source": [
        "from sklearn.metrics import recall_score\n",
        "Recall = recall_score(Y_test, Y_pred)\n",
        "Recall"
      ]
    },
    {
      "cell_type": "code",
      "execution_count": null,
      "metadata": {
        "id": "e167c57c"
      },
      "outputs": [],
      "source": [
        "from sklearn.metrics import f1_score\n",
        "f1_score = f1_score(Y_test, Y_pred)\n",
        "f1_score"
      ]
    },
    {
      "cell_type": "code",
      "execution_count": null,
      "metadata": {
        "id": "tQwPBaTLytzh"
      },
      "outputs": [],
      "source": [
        "Y_pred"
      ]
    },
    {
      "cell_type": "markdown",
      "metadata": {
        "id": "MwWy1VpQ85Nu"
      },
      "source": [
        "## Calculting Log Likelihood for full model"
      ]
    },
    {
      "cell_type": "code",
      "execution_count": null,
      "metadata": {
        "id": "xqHly3Xdn6hO"
      },
      "outputs": [],
      "source": [
        "from sklearn.metrics import log_loss\n",
        "import numpy as np\n",
        "\n",
        "true_y = test_y\n",
        "predictions_lr = predictions_lr"
      ]
    },
    {
      "cell_type": "code",
      "execution_count": null,
      "metadata": {
        "id": "AULYWOnN2DmQ"
      },
      "outputs": [],
      "source": [
        "log_likelihood = -log_loss(true_y,predictions_lr)*len(true_y)\n",
        "log_likelihood"
      ]
    },
    {
      "cell_type": "code",
      "execution_count": null,
      "metadata": {
        "id": "mFUD4nBS8xg8"
      },
      "outputs": [],
      "source": [
        "from sklearn.metrics import confusion_matrix\n",
        "cm = confusion_matrix(test_y, predictions_lr)\n",
        "\n",
        "fig, ax = plt.subplots(figsize=(8, 8))\n",
        "ax.imshow(cm)\n",
        "ax.grid(False)\n",
        "ax.xaxis.set(ticks=(0, 1), ticklabels=('Predicted 0s', 'Predicted 1s'))\n",
        "ax.yaxis.set(ticks=(0, 1), ticklabels=('Actual 0s', 'Actual 1s'))\n",
        "ax.set_ylim(1.5, -0.5)\n",
        "for i in range(2):\n",
        "    for j in range(2):\n",
        "        ax.text(j, i, cm[i, j], ha='center', va='center', color='red')\n",
        "plt.show()\n"
      ]
    },
    {
      "cell_type": "code",
      "execution_count": null,
      "metadata": {
        "id": "yWGp7Kk1ytzi"
      },
      "outputs": [],
      "source": [
        "Precision_Score = precision_score(test_y, predictions_lr)\n",
        "Precision_Score"
      ]
    },
    {
      "cell_type": "code",
      "execution_count": null,
      "metadata": {
        "id": "pF3Gh8Izytzi"
      },
      "outputs": [],
      "source": [
        "Recall_Score = recall_score(test_y, predictions_lr)\n",
        "Recall_Score"
      ]
    },
    {
      "cell_type": "code",
      "execution_count": null,
      "metadata": {
        "id": "x-EpB2VQytzi"
      },
      "outputs": [],
      "source": [
        "from sklearn.metrics import f1_score\n",
        "f1 = f1_score(test_y, predictions_lr)\n",
        "f1"
      ]
    },
    {
      "cell_type": "code",
      "execution_count": null,
      "metadata": {
        "id": "F0DabxEuytzj"
      },
      "outputs": [],
      "source": [
        "TN=cm[0,0]\n",
        "TP=cm[1,1]\n",
        "FN=cm[1,0]\n",
        "FP=cm[0,1]"
      ]
    },
    {
      "cell_type": "code",
      "execution_count": null,
      "metadata": {
        "id": "Am1etE_Cytzj"
      },
      "outputs": [],
      "source": [
        "Accuracy = (TP+TN)/float(TP+TN+FP+FN)\n",
        "Sensitivity = TP/float(TP+FN)\n",
        "Specificity = TN/float(TN+FP)\n",
        "Positive_Value = TP/float(TP+FP)\n",
        "print('The acuuracy of the model = ', Accuracy)\n",
        "print('True Positive Rate = ', Sensitivity)\n",
        "print('True Negative Rate = ', Specificity)\n",
        "print('TPositive Predicted Value = ', Positive_Value)"
      ]
    }
  ],
  "metadata": {
    "colab": {
      "name": "MLA_CODE.ipynb",
      "provenance": []
    },
    "kernelspec": {
      "display_name": "Python 3 (ipykernel)",
      "language": "python",
      "name": "python3"
    },
    "language_info": {
      "codemirror_mode": {
        "name": "ipython",
        "version": 3
      },
      "file_extension": ".py",
      "mimetype": "text/x-python",
      "name": "python",
      "nbconvert_exporter": "python",
      "pygments_lexer": "ipython3",
      "version": "3.9.7"
    }
  },
  "nbformat": 4,
  "nbformat_minor": 0
}